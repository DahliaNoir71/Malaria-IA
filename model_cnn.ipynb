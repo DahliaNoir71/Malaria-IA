{
 "cells": [
  {
   "metadata": {},
   "cell_type": "code",
   "outputs": [],
   "execution_count": null,
   "source": "1. Importations et chargement du dataset",
   "id": "35b6a563d0ab737d"
  },
  {
   "metadata": {
    "ExecuteTime": {
     "end_time": "2024-12-09T11:29:55.448819Z",
     "start_time": "2024-12-09T11:29:55.382806Z"
    }
   },
   "cell_type": "code",
   "source": [
    "import tensorflow_datasets as tfds\n",
    "import tensorflow as tf\n",
    "import numpy as np\n",
    "import matplotlib.pyplot as plt\n",
    "from sklearn.metrics import confusion_matrix, classification_report\n",
    "import seaborn as sns\n",
    "from tensorflow.keras import layers, models\n",
    "from tensorflow.keras.applications import MobileNetV2\n",
    "\n",
    "# Charger le dataset Malaria\n",
    "dataset, info = tfds.load('malaria', as_supervised=True, with_info=True)\n",
    "\n",
    "# Informations sur le dataset\n",
    "print('Dataset name:', info.name)\n",
    "print('Dataset description:', info.description)\n",
    "print('Dataset version:', info.version)\n",
    "print('Dataset features:', info.features)\n",
    "print('Dataset splits:', info.splits)\n",
    "print('Number of train examples:', info.splits['train'].num_examples)\n",
    "print('Number of classes:', info.features['label'].num_classes)\n",
    "\n",
    "# Extraction des données\n",
    "full_data = dataset['train']\n",
    "total_examples = info.splits['train'].num_examples\n",
    "\n",
    "# Ratios pour les splits\n",
    "train_split, val_split, test_split = 0.8, 0.1, 0.1\n",
    "train_size = int(total_examples * train_split)\n",
    "val_size = int(total_examples * val_split)\n",
    "test_size = total_examples - train_size - val_size\n",
    "\n",
    "# Mélange et séparation des données\n",
    "shuffled_data = full_data.shuffle(total_examples, seed=42)\n",
    "train_data = shuffled_data.take(train_size)\n",
    "remaining_data = shuffled_data.skip(train_size)\n",
    "val_data = remaining_data.take(val_size)\n",
    "test_data = remaining_data.skip(val_size)\n"
   ],
   "id": "ee0d6511cdd2fa1d",
   "outputs": [
    {
     "name": "stdout",
     "output_type": "stream",
     "text": [
      "Dataset name: malaria\n",
      "Dataset description: The Malaria dataset contains a total of 27,558 cell images with equal instances\n",
      "of parasitized and uninfected cells from the thin blood smear slide images of\n",
      "segmented cells.\n",
      "Dataset version: 1.0.0\n",
      "Dataset features: FeaturesDict({\n",
      "    'image': Image(shape=(None, None, 3), dtype=uint8),\n",
      "    'label': ClassLabel(shape=(), dtype=int64, num_classes=2),\n",
      "})\n",
      "Dataset splits: {'train': <SplitInfo num_examples=27558, num_shards=4>}\n",
      "Number of train examples: 27558\n",
      "Number of classes: 2\n"
     ]
    }
   ],
   "execution_count": 26
  },
  {
   "metadata": {},
   "cell_type": "markdown",
   "source": "2. Affichage des images de l'ensemble de données",
   "id": "1c5613d341b75bee"
  },
  {
   "metadata": {
    "ExecuteTime": {
     "end_time": "2024-12-09T11:30:52.494941Z",
     "start_time": "2024-12-09T11:30:48.591563Z"
    }
   },
   "cell_type": "code",
   "source": [
    "class_names = ['Parasitized', 'Uninfected']\n",
    "\n",
    "def display_images(dataset, num_images=9):\n",
    "    plt.figure(figsize=(10, 10))\n",
    "\n",
    "    # Initialisation du compteur d'images\n",
    "    images_shown = 0\n",
    "\n",
    "    for batch_images, batch_labels in dataset:\n",
    "        batch_images = batch_images.numpy()  # Convertir les images en NumPy\n",
    "        batch_labels = batch_labels.numpy()  # Convertir les labels en NumPy\n",
    "\n",
    "        for image, label in zip(batch_images, batch_labels):\n",
    "            if images_shown >= num_images:\n",
    "                break\n",
    "\n",
    "            # Affichage de l'image\n",
    "            plt.subplot(3, 3, images_shown + 1)\n",
    "            plt.imshow(image)  # L'image est déjà normalisée\n",
    "            plt.title(class_names[label])  # Nom de la classe\n",
    "            plt.axis('off')\n",
    "\n",
    "            images_shown += 1\n",
    "\n",
    "        if images_shown >= num_images:\n",
    "            break\n",
    "\n",
    "    plt.tight_layout()\n",
    "    plt.show()\n",
    "\n",
    "# Visualiser les images\n",
    "print(\"Images Train Data\")\n",
    "display_images(train_data, num_images=9)\n",
    "\n",
    "print(\"Images Test Data\")\n",
    "display_images(test_data, num_images=9)\n",
    "\n",
    "print(\"Images Validation Data\")\n",
    "display_images(val_data, num_images=9)\n"
   ],
   "id": "e0fa186932971969",
   "outputs": [
    {
     "name": "stdout",
     "output_type": "stream",
     "text": [
      "Images Train Data\n"
     ]
    },
    {
     "ename": "TypeError",
     "evalue": "'numpy.int64' object is not iterable",
     "output_type": "error",
     "traceback": [
      "\u001B[1;31m---------------------------------------------------------------------------\u001B[0m",
      "\u001B[1;31mTypeError\u001B[0m                                 Traceback (most recent call last)",
      "Cell \u001B[1;32mIn[27], line 33\u001B[0m\n\u001B[0;32m     31\u001B[0m \u001B[38;5;66;03m# Visualiser les images\u001B[39;00m\n\u001B[0;32m     32\u001B[0m \u001B[38;5;28mprint\u001B[39m(\u001B[38;5;124m\"\u001B[39m\u001B[38;5;124mImages Train Data\u001B[39m\u001B[38;5;124m\"\u001B[39m)\n\u001B[1;32m---> 33\u001B[0m \u001B[43mdisplay_images\u001B[49m\u001B[43m(\u001B[49m\u001B[43mtrain_data\u001B[49m\u001B[43m,\u001B[49m\u001B[43m \u001B[49m\u001B[43mnum_images\u001B[49m\u001B[38;5;241;43m=\u001B[39;49m\u001B[38;5;241;43m9\u001B[39;49m\u001B[43m)\u001B[49m\n\u001B[0;32m     35\u001B[0m \u001B[38;5;28mprint\u001B[39m(\u001B[38;5;124m\"\u001B[39m\u001B[38;5;124mImages Test Data\u001B[39m\u001B[38;5;124m\"\u001B[39m)\n\u001B[0;32m     36\u001B[0m display_images(test_data, num_images\u001B[38;5;241m=\u001B[39m\u001B[38;5;241m9\u001B[39m)\n",
      "Cell \u001B[1;32mIn[27], line 13\u001B[0m, in \u001B[0;36mdisplay_images\u001B[1;34m(dataset, num_images)\u001B[0m\n\u001B[0;32m     10\u001B[0m batch_images \u001B[38;5;241m=\u001B[39m batch_images\u001B[38;5;241m.\u001B[39mnumpy()  \u001B[38;5;66;03m# Convertir les images en NumPy\u001B[39;00m\n\u001B[0;32m     11\u001B[0m batch_labels \u001B[38;5;241m=\u001B[39m batch_labels\u001B[38;5;241m.\u001B[39mnumpy()  \u001B[38;5;66;03m# Convertir les labels en NumPy\u001B[39;00m\n\u001B[1;32m---> 13\u001B[0m \u001B[38;5;28;01mfor\u001B[39;00m image, label \u001B[38;5;129;01min\u001B[39;00m \u001B[38;5;28;43mzip\u001B[39;49m\u001B[43m(\u001B[49m\u001B[43mbatch_images\u001B[49m\u001B[43m,\u001B[49m\u001B[43m \u001B[49m\u001B[43mbatch_labels\u001B[49m\u001B[43m)\u001B[49m:\n\u001B[0;32m     14\u001B[0m     \u001B[38;5;28;01mif\u001B[39;00m images_shown \u001B[38;5;241m>\u001B[39m\u001B[38;5;241m=\u001B[39m num_images:\n\u001B[0;32m     15\u001B[0m         \u001B[38;5;28;01mbreak\u001B[39;00m\n",
      "\u001B[1;31mTypeError\u001B[0m: 'numpy.int64' object is not iterable"
     ]
    },
    {
     "data": {
      "text/plain": [
       "<Figure size 1000x1000 with 0 Axes>"
      ]
     },
     "metadata": {},
     "output_type": "display_data"
    }
   ],
   "execution_count": 27
  },
  {
   "metadata": {},
   "cell_type": "markdown",
   "source": "3. Visualisation de la distribution des classes",
   "id": "c70550f342140a4a"
  },
  {
   "metadata": {},
   "cell_type": "code",
   "outputs": [],
   "execution_count": null,
   "source": [
    "def plot_class_distribution(data, dataset_name, chart_type='bar'):\n",
    "    # Débatcher et extraire les labels\n",
    "    labels = np.array([label.numpy() for _, label in data.unbatch()])\n",
    "\n",
    "    # Compter les occurrences des classes\n",
    "    unique, counts = np.unique(labels, return_counts=True)\n",
    "\n",
    "    # Visualisation selon le type de graphique\n",
    "    if chart_type == 'bar':\n",
    "        plt.figure(figsize=(6, 4))\n",
    "        plt.bar(unique, counts, tick_label=class_names, color=['skyblue', 'salmon'])\n",
    "        plt.xlabel('Classes')\n",
    "        plt.ylabel('Nombre d\\'exemples')\n",
    "        plt.title(f'Distribution des classes dans {dataset_name}')\n",
    "        plt.show()\n",
    "    elif chart_type == 'pie':\n",
    "        plt.figure(figsize=(6, 6))\n",
    "        plt.pie(counts, labels=class_names, autopct='%1.1f%%', colors=['skyblue', 'salmon'], startangle=90)\n",
    "        plt.title(f'Distribution des classes dans {dataset_name}')\n",
    "        plt.show()\n",
    "\n",
    "# Visualisation en barres\n",
    "print(\"Distribution des classes (bar chart):\")\n",
    "plot_class_distribution(train_data, 'Train Data', chart_type='bar')\n",
    "plot_class_distribution(val_data, 'Validation Data', chart_type='bar')\n",
    "plot_class_distribution(test_data, 'Test Data', chart_type='bar')\n",
    "\n",
    "# Visualisation en camembert\n",
    "print(\"Distribution des classes (pie chart):\")\n",
    "plot_class_distribution(train_data, 'Train Data', chart_type='pie')\n",
    "plot_class_distribution(val_data, 'Validation Data', chart_type='pie')\n",
    "plot_class_distribution(test_data, 'Test Data', chart_type='pie')"
   ],
   "id": "9a0f83bbcc0e0361"
  },
  {
   "metadata": {},
   "cell_type": "markdown",
   "source": "4. Prétraitement des images et préparation des données",
   "id": "41a88c5a8a2b15c0"
  },
  {
   "metadata": {},
   "cell_type": "code",
   "outputs": [],
   "execution_count": null,
   "source": [
    "image_size = 224\n",
    "\n",
    "# Fonction de prétraitement des images\n",
    "def preprocess_image(image, label):\n",
    "    image = tf.image.resize(image, [image_size, image_size])  # Redimensionner à 224x224\n",
    "    image = image / 255.0  # Normalisation\n",
    "    label = tf.cast(label, tf.int32)  # Conversion des labels en int\n",
    "    return image, label\n",
    "\n",
    "# Chargement et prétraitement des données\n",
    "AUTOTUNE = tf.data.AUTOTUNE\n",
    "train_data = train_data.map(preprocess_image, num_parallel_calls=AUTOTUNE)\n",
    "val_data = val_data.map(preprocess_image, num_parallel_calls=AUTOTUNE)\n",
    "test_data = test_data.map(preprocess_image, num_parallel_calls=AUTOTUNE)\n",
    "\n",
    "train_data = train_data.batch(32).prefetch(AUTOTUNE)\n",
    "val_data = val_data.batch(32).prefetch(AUTOTUNE)\n",
    "test_data = test_data.batch(32).prefetch(AUTOTUNE)"
   ],
   "id": "162c5be341572370"
  },
  {
   "metadata": {},
   "cell_type": "markdown",
   "source": "5. Définition du modèle MobileNetV2 et compilation",
   "id": "37e1da0d1b032f9d"
  },
  {
   "metadata": {},
   "cell_type": "code",
   "outputs": [],
   "execution_count": null,
   "source": [
    "# Définir MobileNetV2 avec la taille d'entrée de 224x224\n",
    "base_model = MobileNetV2(input_shape=(224, 224, 3), include_top=False, weights='imagenet')\n",
    "\n",
    "# Gel des poids du modèle de base pour éviter de les entraîner\n",
    "base_model.trainable = False\n",
    "\n",
    "# Création du modèle complet\n",
    "model = models.Sequential([\n",
    "    base_model,\n",
    "    layers.GlobalAveragePooling2D(),\n",
    "    layers.Dense(1, activation='sigmoid')  # Sigmoid pour 2 classes\n",
    "])\n",
    "\n",
    "# Compilation du modèle\n",
    "model.compile(optimizer='adam', loss='binary_crossentropy', metrics=['accuracy'])\n",
    "\n",
    "# Affichage du résumé du modèle pour vérifier les couches\n",
    "model.summary()"
   ],
   "id": "c9763e73d600a2d6"
  },
  {
   "metadata": {},
   "cell_type": "markdown",
   "source": "6. Définition des callbacks et planification du taux d'apprentissage",
   "id": "f8bac54039a0e17d"
  },
  {
   "metadata": {},
   "cell_type": "code",
   "outputs": [],
   "execution_count": null,
   "source": [
    "from tensorflow.keras.callbacks import EarlyStopping, ReduceLROnPlateau, LearningRateScheduler\n",
    "\n",
    "# Fonction de planification du taux d'apprentissage (learning rate)\n",
    "def lr_schedule(epoch):\n",
    "    if epoch < 10:\n",
    "        return 0.001  # Taux d'apprentissage pour les 10 premières époques\n",
    "    else:\n",
    "        return 0.0001  # Taux d'apprentissage après 10 époques\n",
    "\n",
    "# Callback pour ajuster dynamiquement le learning rate\n",
    "lr_scheduler = LearningRateScheduler(lr_schedule)\n",
    "\n",
    "# Callback pour l'arrêt précoce, surveille la 'val_loss' et arrête l'entraînement si la performance ne s'améliore pas\n",
    "early_stopping = EarlyStopping(monitor='val_loss',\n",
    "                               patience=3,  # Arrêt après 3 époques sans amélioration\n",
    "                               restore_best_weights=True,  # Restaure les meilleurs poids trouvés\n",
    "                               verbose=2)\n",
    "\n",
    "# Callback pour réduire dynamiquement le learning rate en cas de stagnation de la validation loss\n",
    "reduce_lr = ReduceLROnPlateau(monitor='val_loss',\n",
    "                              factor=0.5,  # Divise le learning rate par 2\n",
    "                              patience=2,  # Attend 2 époques sans amélioration avant de réduire le LR\n",
    "                              verbose=2)\n",
    "\n",
    "# Liste de callbacks pour les intégrer dans l'entraînement\n",
    "callbacks = [lr_scheduler, early_stopping, reduce_lr]"
   ],
   "id": "be5d1c5a075df173"
  },
  {
   "metadata": {},
   "cell_type": "markdown",
   "source": "7. Entraînement du modèle",
   "id": "b6df7e59d9887523"
  },
  {
   "metadata": {},
   "cell_type": "code",
   "outputs": [],
   "execution_count": null,
   "source": [
    "# Paramètres d'entraînement\n",
    "steps_per_epoch = train_size // 32  # Calcul du nombre de steps pour chaque époque\n",
    "validation_steps = val_size // 32  # Nombre de steps pour la validation\n",
    "\n",
    "# Entraîner le modèle avec des callbacks\n",
    "history = model.fit(\n",
    "    train_data,\n",
    "    validation_data=val_data,\n",
    "    epochs=10,\n",
    "    steps_per_epoch=steps_per_epoch,  # Nombre de steps pour chaque époque\n",
    "    validation_steps=validation_steps,  # Nombre de steps pour la validation\n",
    "    callbacks=callbacks,  # Ajouter les callbacks ici\n",
    "    verbose=1  # Affichage de la barre de progression\n",
    ")"
   ],
   "id": "2956bb4e41022731"
  }
 ],
 "metadata": {
  "kernelspec": {
   "display_name": "Python 3",
   "language": "python",
   "name": "python3"
  },
  "language_info": {
   "codemirror_mode": {
    "name": "ipython",
    "version": 2
   },
   "file_extension": ".py",
   "mimetype": "text/x-python",
   "name": "python",
   "nbconvert_exporter": "python",
   "pygments_lexer": "ipython2",
   "version": "2.7.6"
  }
 },
 "nbformat": 4,
 "nbformat_minor": 5
}
