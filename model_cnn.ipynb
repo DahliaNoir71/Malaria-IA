{
 "cells": [
  {
   "metadata": {
    "ExecuteTime": {
     "end_time": "2024-12-09T13:47:18.520924Z",
     "start_time": "2024-12-09T13:41:30.042224Z"
    }
   },
   "cell_type": "code",
   "source": [
    "import tensorflow_datasets as tfds\n",
    "import tensorflow as tf\n",
    "import matplotlib.pyplot as plt\n",
    "import numpy as np\n",
    "\n",
    "# 1. Charger le dataset\n",
    "dataset, info = tfds.load('malaria', as_supervised=True, with_info=True, shuffle_files=True)"
   ],
   "id": "361a066774eafb9f",
   "outputs": [
    {
     "name": "stdout",
     "output_type": "stream",
     "text": [
      "\u001B[1mDownloading and preparing dataset Unknown size (download: Unknown size, generated: Unknown size, total: Unknown size) to C:\\Users\\Utilisateur\\tensorflow_datasets\\malaria\\1.0.0...\u001B[0m\n"
     ]
    },
    {
     "data": {
      "text/plain": [
       "Dl Completed...: 0 url [00:00, ? url/s]"
      ],
      "application/vnd.jupyter.widget-view+json": {
       "version_major": 2,
       "version_minor": 0,
       "model_id": "fac841cbe24d447884f02d25d4565f1e"
      }
     },
     "metadata": {},
     "output_type": "display_data"
    },
    {
     "data": {
      "text/plain": [
       "Dl Size...: 0 MiB [00:00, ? MiB/s]"
      ],
      "application/vnd.jupyter.widget-view+json": {
       "version_major": 2,
       "version_minor": 0,
       "model_id": "8497a7d5c79444f4b396f8bfe62d419c"
      }
     },
     "metadata": {},
     "output_type": "display_data"
    },
    {
     "data": {
      "text/plain": [
       "Extraction completed...: 0 file [00:00, ? file/s]"
      ],
      "application/vnd.jupyter.widget-view+json": {
       "version_major": 2,
       "version_minor": 0,
       "model_id": "d10c123e04d94b5dae6397d9d0942cc2"
      }
     },
     "metadata": {},
     "output_type": "display_data"
    },
    {
     "data": {
      "text/plain": [
       "Generating splits...:   0%|          | 0/1 [00:00<?, ? splits/s]"
      ],
      "application/vnd.jupyter.widget-view+json": {
       "version_major": 2,
       "version_minor": 0,
       "model_id": "9d47c6f4c7d748298ece2169beacc95f"
      }
     },
     "metadata": {},
     "output_type": "display_data"
    },
    {
     "data": {
      "text/plain": [
       "Generating train examples...: 0 examples [00:00, ? examples/s]"
      ],
      "application/vnd.jupyter.widget-view+json": {
       "version_major": 2,
       "version_minor": 0,
       "model_id": "bb706888f2db4dea85aff8aaa8014be0"
      }
     },
     "metadata": {},
     "output_type": "display_data"
    },
    {
     "data": {
      "text/plain": [
       "Shuffling C:\\Users\\Utilisateur\\tensorflow_datasets\\malaria\\incomplete.JELINY_1.0.0\\malaria-train.tfrecord*...:…"
      ],
      "application/vnd.jupyter.widget-view+json": {
       "version_major": 2,
       "version_minor": 0,
       "model_id": "7be5c5d197ed4d5b81f013b327abcd1f"
      }
     },
     "metadata": {},
     "output_type": "display_data"
    },
    {
     "name": "stdout",
     "output_type": "stream",
     "text": [
      "\u001B[1mDataset malaria downloaded and prepared to C:\\Users\\Utilisateur\\tensorflow_datasets\\malaria\\1.0.0. Subsequent calls will reuse this data.\u001B[0m\n"
     ]
    }
   ],
   "execution_count": 85
  },
  {
   "metadata": {
    "ExecuteTime": {
     "end_time": "2024-12-09T13:48:24.333701Z",
     "start_time": "2024-12-09T13:48:24.326295Z"
    }
   },
   "cell_type": "code",
   "source": [
    "# Informations sur le dataset\n",
    "print(\"Description du dataset :\")\n",
    "print(info.description)\n",
    "print(\"\\nNombre total d'exemples :\", info.splits['train'].num_examples)"
   ],
   "id": "8aa73b070b8afd87",
   "outputs": [
    {
     "name": "stdout",
     "output_type": "stream",
     "text": [
      "Description du dataset :\n",
      "The Malaria dataset contains a total of 27,558 cell images with equal instances\n",
      "of parasitized and uninfected cells from the thin blood smear slide images of\n",
      "segmented cells.\n",
      "\n",
      "Nombre total d'exemples : 27558\n"
     ]
    }
   ],
   "execution_count": 86
  },
  {
   "metadata": {
    "ExecuteTime": {
     "end_time": "2024-12-09T13:49:25.904089Z",
     "start_time": "2024-12-09T13:49:08.850830Z"
    }
   },
   "cell_type": "code",
   "source": [
    "# 2. Définir les fractions pour division en entraînement, validation et test\n",
    "train_split = 0.8\n",
    "val_split = 0.1\n",
    "test_split = 0.1\n",
    "\n",
    "# Diviser les données en sous-ensembles\n",
    "train_data = dataset['train'].take(int(info.splits['train'].num_examples * train_split))\n",
    "val_data = dataset['train'].skip(int(info.splits['train'].num_examples * train_split)).take(int(info.splits['train'].num_examples * val_split))\n",
    "test_data = dataset['train'].skip(int(info.splits['train'].num_examples * (train_split + val_split)))\n",
    "\n",
    "# Vérification des tailles des datasets\n",
    "print(f\"Exemples d'entraînement : {len(list(train_data))}\")\n",
    "print(f\"Exemples de validation : {len(list(val_data))}\")\n",
    "print(f\"Exemples de test : {len(list(test_data))}\")"
   ],
   "id": "95ca24d55966dc19",
   "outputs": [
    {
     "name": "stdout",
     "output_type": "stream",
     "text": [
      "Exemples d'entraînement : 22046\n",
      "Exemples de validation : 2755\n",
      "Exemples de test : 2756\n"
     ]
    }
   ],
   "execution_count": 87
  },
  {
   "metadata": {
    "ExecuteTime": {
     "end_time": "2024-12-09T13:24:22.392475Z",
     "start_time": "2024-12-09T13:24:22.226832Z"
    }
   },
   "cell_type": "code",
   "outputs": [],
   "execution_count": 81,
   "source": [
    "# 3. Prétraitement des données\n",
    "batch_size = 32\n",
    "img_size = (128, 128)  # Taille des images cible\n",
    "\n",
    "def preprocess_image(image, label):\n",
    "    \"\"\"\n",
    "    Prétraite une image :\n",
    "    - Redimensionne l'image\n",
    "    - Normalise les pixels entre 0 et 1\n",
    "    \"\"\"\n",
    "    image = tf.image.resize(image, img_size)\n",
    "    image = tf.cast(image, tf.float32) / 255.0\n",
    "    return image\n",
    "\n",
    "def encode_label(label):\n",
    "    \"\"\"\n",
    "    Encode les labels en format binaire :\n",
    "    - 1 pour 'Parasitized'\n",
    "    - 0 pour 'Uninfected'\n",
    "    \"\"\"\n",
    "    return tf.cast(label, tf.float32)  # Assure un format compatible avec les modèles TensorFlow\n",
    "\n",
    "# Appliquer le prétraitement et l'encodage binaire des labels\n",
    "def preprocess_and_encode(image, label):\n",
    "    image = preprocess_image(image, label)\n",
    "    label = encode_label(label)\n",
    "    return image, label\n",
    "\n",
    "train_data = train_data.map(preprocess_and_encode, num_parallel_calls=tf.data.AUTOTUNE)\n",
    "val_data = val_data.map(preprocess_and_encode, num_parallel_calls=tf.data.AUTOTUNE)\n",
    "test_data = test_data.map(preprocess_and_encode, num_parallel_calls=tf.data.AUTOTUNE)\n",
    "\n",
    "# Ajouter batching et préchargement pour optimiser l'entraînement\n",
    "train_data = train_data.batch(batch_size).prefetch(buffer_size=tf.data.AUTOTUNE)\n",
    "val_data = val_data.batch(batch_size).prefetch(buffer_size=tf.data.AUTOTUNE)\n",
    "test_data = test_data.batch(batch_size).prefetch(buffer_size=tf.data.AUTOTUNE)\n",
    "\n",
    "# 4. Visualiser un échantillon d'images et leurs labels\n",
    "def visualize_sample(dataset, title, class_names=['Parasitized', 'Uninfected']):\n",
    "    plt.figure(figsize=(10, 10))\n",
    "    for images, labels in dataset.take(1):  # Prenez un batch pour visualisation\n",
    "        for i in range(9):  # Affichez les 9 premières images\n",
    "            ax = plt.subplot(3, 3, i + 1)\n",
    "            plt.imshow(images[i].numpy())\n",
    "            plt.title(f\"Label: {class_names[int(labels[i])]}\")  # Convertir le label en entier pour l'affichage\n",
    "            plt.axis(\"off\")\n",
    "    plt.suptitle(title, fontsize=16)\n",
    "    plt.show()\n",
    "\n",
    "print(\"\\nVisualisation des données d'entraînement :\")\n",
    "visualize_sample(train_data, \"Échantillon d'images - Entraînement\")\n",
    "\n",
    "# 5. Répartition des classes\n",
    "def plot_class_distribution(dataset, dataset_name, class_names=['Parasitized', 'Uninfected']):\n",
    "    labels = np.concatenate([y.numpy() for _, y in dataset])\n",
    "    unique, counts = np.unique(labels, return_counts=True)\n",
    "\n",
    "    plt.figure(figsize=(6, 6))\n",
    "    plt.pie(\n",
    "        counts,\n",
    "        labels=[class_names[int(i)] for i in unique],\n",
    "        autopct='%1.1f%%',\n",
    "        colors=['skyblue', 'salmon']\n",
    "    )\n",
    "    plt.title(f\"Répartition des classes - {dataset_name}\")\n",
    "    plt.show()\n",
    "\n",
    "print(\"\\nRépartition des classes dans chaque sous-dataset :\")\n",
    "plot_class_distribution(train_data, \"Entraînement\")\n",
    "plot_class_distribution(val_data, \"Validation\")\n",
    "plot_class_distribution(test_data, \"Test\")\n"
   ],
   "id": "d91062179495b4a6"
  }
 ],
 "metadata": {
  "kernelspec": {
   "display_name": "Python 3",
   "language": "python",
   "name": "python3"
  },
  "language_info": {
   "codemirror_mode": {
    "name": "ipython",
    "version": 2
   },
   "file_extension": ".py",
   "mimetype": "text/x-python",
   "name": "python",
   "nbconvert_exporter": "python",
   "pygments_lexer": "ipython2",
   "version": "2.7.6"
  }
 },
 "nbformat": 4,
 "nbformat_minor": 5
}
